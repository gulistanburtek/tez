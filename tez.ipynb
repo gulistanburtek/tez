{
  "nbformat": 4,
  "nbformat_minor": 0,
  "metadata": {
    "colab": {
      "name": "tez.ipynb",
      "provenance": [],
      "collapsed_sections": [],
      "authorship_tag": "ABX9TyNjnRqEBhWOv1d3ESTEzHs2",
      "include_colab_link": true
    },
    "kernelspec": {
      "name": "python3",
      "display_name": "Python 3"
    },
    "language_info": {
      "name": "python"
    }
  },
  "cells": [
    {
      "cell_type": "markdown",
      "metadata": {
        "id": "view-in-github",
        "colab_type": "text"
      },
      "source": [
        "<a href=\"https://colab.research.google.com/github/gulistanburtek/tez/blob/main/tez.ipynb\" target=\"_parent\"><img src=\"https://colab.research.google.com/assets/colab-badge.svg\" alt=\"Open In Colab\"/></a>"
      ]
    },
    {
      "cell_type": "code",
      "execution_count": null,
      "metadata": {
        "id": "7ZUMf0M9Zfp_"
      },
      "outputs": [],
      "source": [
        "import numpy as np # linear algebra\n",
        "import pandas as pd # data processing, CSV file I/O (e.g. pd.read_csv)\n",
        "import seaborn as sns\n",
        "import matplotlib.pyplot as plt\n",
        "import sklearn.ensemble as ske                          # Tüm sınıflandırıcıları içeren kütüphane.\n",
        "from sklearn.model_selection import train_test_split    # Veriyi TRAIN/TEST olarak bölmek için.\n"
      ]
    },
    {
      "cell_type": "code",
      "source": [
        "from google.colab import drive\n",
        "drive.mount('/content/drive')"
      ],
      "metadata": {
        "colab": {
          "base_uri": "https://localhost:8080/"
        },
        "id": "pzWwED0wZj_5",
        "outputId": "829d2b49-aa43-4ee6-f2b1-90c35af0c363"
      },
      "execution_count": null,
      "outputs": [
        {
          "output_type": "stream",
          "name": "stdout",
          "text": [
            "Drive already mounted at /content/drive; to attempt to forcibly remount, call drive.mount(\"/content/drive\", force_remount=True).\n"
          ]
        }
      ]
    },
    {
      "cell_type": "code",
      "source": [
        "data = pd.read_excel(\"/content/drive/MyDrive/tez/TrainingDataset.xlsx\")\n",
        "X = np.loadtxt(\"/content/drive/MyDrive/tez/Inputs.txt\")\n",
        "y = np.loadtxt(\"/content/drive/MyDrive/tez/Target.txt\") "
      ],
      "metadata": {
        "id": "Ie-FQXsNZoCs"
      },
      "execution_count": null,
      "outputs": []
    },
    {
      "cell_type": "code",
      "source": [
        "from sklearn.model_selection import train_test_split\n",
        "X_train, X_test, y_train, y_test = train_test_split(X, y, test_size=0.3, random_state=0)\n",
        "from sklearn.metrics import accuracy_score, confusion_matrix, classification_report\n",
        "\n",
        "def print_score(clf, X_train, y_train, X_test, y_test, train=True):\n",
        "    if train:\n",
        "        pred = clf.predict(X_train)\n",
        "        clf_report = pd.DataFrame(classification_report(y_train, pred, output_dict=True))\n",
        "        print(\"Train Result:\\n================================================\")\n",
        "        print(f\"Accuracy Score: {accuracy_score(y_train, pred) * 100:.2f}%\")\n",
        "        print(\"_______________________________________________\")\n",
        "        print(f\"CLASSIFICATION REPORT:\\n{clf_report}\")\n",
        "        print(\"_______________________________________________\")\n",
        "        print(f\"Confusion Matrix: \\n {confusion_matrix(y_train, pred)}\\n\")\n",
        "        \n",
        "    elif train==False:\n",
        "        pred = clf.predict(X_test)\n",
        "        clf_report = pd.DataFrame(classification_report(y_test, pred, output_dict=True))\n",
        "        print(\"Test Result:\\n================================================\")        \n",
        "        print(f\"Accuracy Score: {accuracy_score(y_test, pred) * 100:.2f}%\")\n",
        "        print(\"_______________________________________________\")\n",
        "        print(f\"CLASSIFICATION REPORT:\\n{clf_report}\")\n",
        "        print(\"_______________________________________________\")\n",
        "        print(f\"Confusion Matrix: \\n {confusion_matrix(y_test, pred)}\\n\")\n",
        "\n",
        "from sklearn.svm import LinearSVC\n",
        "\n",
        "model = LinearSVC(loss='hinge', dual=True)\n",
        "model.fit(X_train, y_train)\n",
        "\n",
        "print_score(model, X_train, y_train, X_test, y_test, train=True)\n",
        "print_score(model, X_train, y_train, X_test, y_test, train=False)"
      ],
      "metadata": {
        "colab": {
          "base_uri": "https://localhost:8080/"
        },
        "id": "2juPQlj2qgPf",
        "outputId": "3659b4be-d6a5-4f55-c6ed-d1ff07477092"
      },
      "execution_count": null,
      "outputs": [
        {
          "output_type": "stream",
          "name": "stdout",
          "text": [
            "Train Result:\n",
            "================================================\n",
            "Accuracy Score: 78.40%\n",
            "_______________________________________________\n",
            "CLASSIFICATION REPORT:\n",
            "                   0.0          1.0  accuracy    macro avg  weighted avg\n",
            "precision     0.884632     0.727029  0.784002     0.805830      0.804898\n",
            "recall        0.647244     0.917564  0.784002     0.782404      0.784002\n",
            "f1-score      0.747545     0.811259  0.784002     0.779402      0.779779\n",
            "support    3175.000000  3251.000000  0.784002  6426.000000   6426.000000\n",
            "_______________________________________________\n",
            "Confusion Matrix: \n",
            " [[2055 1120]\n",
            " [ 268 2983]]\n",
            "\n",
            "Test Result:\n",
            "================================================\n",
            "Accuracy Score: 77.49%\n",
            "_______________________________________________\n",
            "CLASSIFICATION REPORT:\n",
            "                   0.0          1.0  accuracy    macro avg  weighted avg\n",
            "precision     0.887365     0.708598  0.774873     0.797982      0.800189\n",
            "recall        0.642098     0.914371  0.774873     0.778234      0.774873\n",
            "f1-score      0.745066     0.798440  0.774873     0.771753      0.771094\n",
            "support    1411.000000  1343.000000  0.774873  2754.000000   2754.000000\n",
            "_______________________________________________\n",
            "Confusion Matrix: \n",
            " [[ 906  505]\n",
            " [ 115 1228]]\n",
            "\n"
          ]
        },
        {
          "output_type": "stream",
          "name": "stderr",
          "text": [
            "/usr/local/lib/python3.7/dist-packages/sklearn/svm/_base.py:1208: ConvergenceWarning: Liblinear failed to converge, increase the number of iterations.\n",
            "  ConvergenceWarning,\n"
          ]
        }
      ]
    },
    {
      "cell_type": "code",
      "source": [
        "classifier = ske.RandomForestClassifier()       \n",
        "classifier.fit(X_train, y_train)                # Burada sınıflandırıcıyı eğitiyoruz. TRAIN SETI KULLANILMALI.\n",
        "accuracy = classifier.score(X_test, y_test)*100.0     # Burada, accuracy skoru hesaplanıyor. TEST SETI KULLANILMALI.\n",
        "\n",
        "print(f\"%{accuracy}\")\n"
      ],
      "metadata": {
        "colab": {
          "base_uri": "https://localhost:8080/"
        },
        "id": "I4R4aPxzVkbA",
        "outputId": "65f76c10-5713-4a14-f810-f4ec16dda5ac"
      },
      "execution_count": null,
      "outputs": [
        {
          "output_type": "stream",
          "name": "stdout",
          "text": [
            "%85.69353667392883\n"
          ]
        }
      ]
    },
    {
      "cell_type": "code",
      "source": [
        "import xgboost as xgb\n",
        "\n",
        "xg_reg = xgb.XGBClassifier(objective ='reg:logistic', colsample_bytree = 0.3, learning_rate = 0.1,\n",
        "                max_depth = 5, alpha = 10, n_estimators = 35)  # XGBRegressor   XGBClassifier\n",
        "\n",
        "xg_reg.fit(X_train,y_train)\n",
        "\n",
        "from sklearn import metrics\n",
        "from sklearn.metrics import accuracy_score\n",
        "\n",
        "# predict the results\n",
        "y_predtrain = xg_reg.predict(X_train)\n",
        "y_predtest = xg_reg.predict(X_test)\n",
        "\n",
        "# view accuracy\n",
        "print(\"Training Accuracy:\",accuracy_score(y_train, y_predtrain))\n",
        "print(\"Testing Accuracy:\",accuracy_score(y_test, y_predtest))"
      ],
      "metadata": {
        "colab": {
          "base_uri": "https://localhost:8080/"
        },
        "id": "rBWZ0K0FqrLh",
        "outputId": "108c6f82-e6c5-491d-97f5-486b3e06bf41"
      },
      "execution_count": null,
      "outputs": [
        {
          "output_type": "stream",
          "name": "stdout",
          "text": [
            "Training Accuracy: 0.8646125116713352\n",
            "Testing Accuracy: 0.8478576615831518\n"
          ]
        }
      ]
    },
    {
      "cell_type": "markdown",
      "source": [
        ""
      ],
      "metadata": {
        "id": "vdF7lKNL8od_"
      }
    },
    {
      "cell_type": "code",
      "source": [
        "from sklearn.neural_network import MLPClassifier\n",
        "classifier = MLPClassifier(hidden_layer_sizes=(100,100,100, ))\n",
        "classifier.fit(X_train, y_train)\n",
        "accuracy = classifier.score(X_test, y_test)*100.0\n",
        "\n",
        "print(f\"%{accuracy}\")"
      ],
      "metadata": {
        "id": "zTBW-HyOA-d5",
        "colab": {
          "base_uri": "https://localhost:8080/"
        },
        "outputId": "9dd79843-8f98-4e5b-8945-9635ff661a8e"
      },
      "execution_count": null,
      "outputs": [
        {
          "output_type": "stream",
          "name": "stdout",
          "text": [
            "%80.35584604212055\n"
          ]
        }
      ]
    },
    {
      "cell_type": "code",
      "source": [
        ""
      ],
      "metadata": {
        "id": "0UDXl7CooPJM"
      },
      "execution_count": null,
      "outputs": []
    }
  ]
}